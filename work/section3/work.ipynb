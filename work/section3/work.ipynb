{
 "cells": [
  {
   "cell_type": "markdown",
   "metadata": {},
   "source": [
    "# ライブラリ"
   ]
  },
  {
   "cell_type": "code",
   "execution_count": 73,
   "metadata": {},
   "outputs": [],
   "source": [
    "from bs4 import BeautifulSoup\n",
    "import requests\n",
    "import re"
   ]
  },
  {
   "cell_type": "code",
   "execution_count": 3,
   "metadata": {},
   "outputs": [],
   "source": [
    "html = \"\"\"\n",
    "<!DOCTYPE html>\n",
    "<html lang=\"ja\">\n",
    "<head>\n",
    "    <meta charset=\"UTF-8\">\n",
    "    <meta name=\"viewport\" content=\"width=device-width, initial-scale=1.0\">\n",
    "    <title>Document</title>\n",
    "</head>\n",
    "<body>\n",
    "    <h1>タイトル</h1>\n",
    "    <h2>演習内容</h2>\n",
    "    <ol id=\"step1\" class=\"study-list\">\n",
    "        <li>Python基礎</li>\n",
    "        <li>HTML基礎</li>\n",
    "    </ol>\n",
    "\n",
    "    <ol id=\"step2\" class=\"study-list\">\n",
    "        <li>Python応用</li>\n",
    "        <li>HTML応用</li>\n",
    "    </ol>\n",
    "</body>\n",
    "</html>\n",
    "\"\"\""
   ]
  },
  {
   "cell_type": "code",
   "execution_count": 7,
   "metadata": {},
   "outputs": [
    {
     "name": "stdout",
     "output_type": "stream",
     "text": [
      "タイトル\n",
      "演習内容\n"
     ]
    }
   ],
   "source": [
    "soup = BeautifulSoup(html, \"lxml\")\n",
    "print(soup.h1.text) # 解析したHTMLからh1タグのテキストを取得\n",
    "print(soup.h2.text) # 解析したHTMLからh2タグのテキストを取得"
   ]
  },
  {
   "cell_type": "code",
   "execution_count": null,
   "metadata": {},
   "outputs": [],
   "source": [
    "# html.parserとは？\n",
    "# html.parser -> python標準のHTML解析器(ライブラリのインストールが必要ない)\n",
    "# lxml -> 高速なHTML解析器(ライブラリのインストールが必要)\n",
    "# html5lib -> HTML5の仕様に準拠したHTML解析器, ただし処理が遅い(ライブラリのインストールが必要)"
   ]
  },
  {
   "cell_type": "code",
   "execution_count": 13,
   "metadata": {},
   "outputs": [
    {
     "name": "stdout",
     "output_type": "stream",
     "text": [
      "The Operating System for AI\n",
      "The Operating System for AI\n"
     ]
    }
   ],
   "source": [
    "url = \"https://www.anaconda.com/\"\n",
    "res = requests.get(url)\n",
    "\n",
    "# res.text\n",
    "soup = BeautifulSoup(res.content, \"lxml\") # res.textでもOK\n",
    "# res.contentの方が良い -> res.textだと文字化けすることがある\n",
    "print(soup.h1.text) # 解析したHTMLからh1タグのテキストを取得\n",
    "print(soup.find(\"h1\").text) # h1タグを取得\n",
    "\n",
    "# 基本的にはfindメソッドを使う\n",
    "# 追加要素class名とかも指定できる soup.find(\"h1\", class_=\"class名\")\n",
    "# 全ての要素を取得したい場合はfind_allメソッドを使う"
   ]
  },
  {
   "cell_type": "code",
   "execution_count": 24,
   "metadata": {},
   "outputs": [
    {
     "name": "stdout",
     "output_type": "stream",
     "text": [
      "The Operating System for AI\n",
      "Explore Anaconda Hub\n",
      "Create Account\n",
      "Learn More\n",
      "Learn More\n",
      "Learn More\n",
      "Learn More\n",
      "Get the Report\n",
      "Press Releases\n",
      "Blog\n",
      "Docs\n",
      "Learning Catalog\n",
      "PyScript\n",
      "EduBlocks\n",
      "PythonAnywhere\n",
      "Contact Sales\n",
      "========================\n",
      "Explore Anaconda Hub\n"
     ]
    }
   ],
   "source": [
    "url = \"https://www.anaconda.com/\"\n",
    "res = requests.get(url)\n",
    "\n",
    "# res.text\n",
    "soup = BeautifulSoup(res.content, \"lxml\") # res.textでもOK\n",
    "\n",
    "print(soup.h1.text) \n",
    "# print(soup.find_all(\"span\", class_ =\"bs-pro-button\").text)  # リストで返ってくるのでエラーになる\n",
    "for span in soup.find_all(\"span\", class_ =\"bs-pro-button\"):\n",
    "    print(span.text) # すべてのspanタグのテキストを取得\n",
    "\n",
    "# 一つだけ取得したい場合は\n",
    "print(\"========================\")\n",
    "print(soup.find_all(\"span\", class_ =\"bs-pro-button\")[0].text)"
   ]
  },
  {
   "cell_type": "code",
   "execution_count": 25,
   "metadata": {},
   "outputs": [
    {
     "name": "stdout",
     "output_type": "stream",
     "text": [
      "Explore Anaconda Hub\n"
     ]
    }
   ],
   "source": [
    "print(soup.find(attrs={\"class\": \"bs-pro-button\"}).text) # これでもOK"
   ]
  },
  {
   "cell_type": "markdown",
   "metadata": {},
   "source": [
    "### 練習問題"
   ]
  },
  {
   "cell_type": "code",
   "execution_count": 52,
   "metadata": {},
   "outputs": [
    {
     "name": "stdout",
     "output_type": "stream",
     "text": [
      "====================0====================\n",
      "タイトル : Python 3.13.0RC2, 3.12.6, 3.11.10, 3.10.15, 3.9.20, and 3.8.20 are now available!\n",
      "日付 : 2024-09-07\n",
      "====================1====================\n",
      "タイトル : Pallets projects added to scope of PSF CVE Numbering Authority\n",
      "日付 : 2024-09-05\n",
      "====================2====================\n",
      "タイトル : Python Developers Survey 2023 Results\n",
      "日付 : 2024-08-29\n",
      "====================3====================\n",
      "タイトル : Ask questions or tell us what you think: Introducing monthly PSF Board Office Hours!\n",
      "日付 : 2024-08-27\n",
      "====================4====================\n",
      "タイトル : Announcing Python Software Foundation Fellow Members for Q1 2024! 🎉\n",
      "日付 : 2024-08-13\n"
     ]
    }
   ],
   "source": [
    "url = \"https://www.python.org/\"\n",
    "res = requests.get(url)\n",
    "# アクセスできるか確認\n",
    "# print(res.status_code)\n",
    "\n",
    "soup = BeautifulSoup(res.content, \"lxml\") \n",
    "# Latest Newsがあるブロックを取得\n",
    "latest_news = soup.find(\"div\", class_=\"medium-widget blog-widget\")\n",
    "latest_news = latest_news.find(\"ul\" , class_=\"menu\")\n",
    "# latest_news.text\n",
    "latest_news_title = latest_news.find_all(\"a\")\n",
    "latest_news_date = latest_news.find_all(\"time\")\n",
    "# for tem in latest_news_title:\n",
    "for i, (title, date) in enumerate(zip(latest_news_title, latest_news_date), 0):\n",
    "    print(f\"===================={i}====================\")\n",
    "    print(f\"タイトル : {title.text}\")\n",
    "    print(f\"日付 : {date.text}\")\n",
    "\n"
   ]
  },
  {
   "cell_type": "code",
   "execution_count": 55,
   "metadata": {},
   "outputs": [
    {
     "name": "stdout",
     "output_type": "stream",
     "text": [
      "============================== 0 ==============================\n",
      "タイトル : Python 3.13.0RC2, 3.12.6, 3.11.10, 3.10.15, 3.9.20, and 3.8.20 are now available!\n",
      "日付 : 2024-09-07\n",
      "============================== 1 ==============================\n",
      "タイトル : Pallets projects added to scope of PSF CVE Numbering Authority\n",
      "日付 : 2024-09-05\n",
      "============================== 2 ==============================\n",
      "タイトル : Python Developers Survey 2023 Results\n",
      "日付 : 2024-08-29\n",
      "============================== 3 ==============================\n",
      "タイトル : Ask questions or tell us what you think: Introducing monthly PSF Board Office Hours!\n",
      "日付 : 2024-08-27\n",
      "============================== 4 ==============================\n",
      "タイトル : Announcing Python Software Foundation Fellow Members for Q1 2024! 🎉\n",
      "日付 : 2024-08-13\n"
     ]
    }
   ],
   "source": [
    "# 回答\n",
    "url = \"https://www.python.org/\"\n",
    "res = requests.get(url)\n",
    "# アクセスできるか確認\n",
    "# print(res.status_code)\n",
    "\n",
    "soup = BeautifulSoup(res.content, \"lxml\") \n",
    "# Latest Newsがあるブロックを取得\n",
    "post = soup.find(\"div\", class_=\"medium-widget blog-widget\")\n",
    "\n",
    "for i, li in enumerate(post.find_all(\"li\")):\n",
    "    title = li.find(\"a\").text\n",
    "    date = li.find(\"time\").text\n",
    "    print(\"=\"* 30, i, \"=\"*30)\n",
    "    print(f\"タイトル : {title}\")\n",
    "    print(f\"日付 : {date}\")\n",
    "\n"
   ]
  },
  {
   "cell_type": "code",
   "execution_count": 58,
   "metadata": {},
   "outputs": [
    {
     "name": "stdout",
     "output_type": "stream",
     "text": [
      "{'href': 'https://pythoninsider.blogspot.com/2024/09/python-3130rc2-3126-31110-31015-3920.html'}\n",
      "https://pythoninsider.blogspot.com/2024/09/python-3130rc2-3126-31110-31015-3920.html\n"
     ]
    }
   ],
   "source": [
    "# 回答\n",
    "url = \"https://www.python.org/\"\n",
    "res = requests.get(url)\n",
    "# アクセスできるか確認\n",
    "# print(res.status_code)\n",
    "soup = BeautifulSoup(res.content, \"lxml\") \n",
    "# Latest Newsがあるブロックを取得\n",
    "post = soup.find(\"div\", class_=\"medium-widget blog-widget\")\n",
    "\n",
    "# post.find(\"li\").find(\"a\") # 最初のliタグの中にあるaタグを取得\n",
    "\n",
    "print(post.find(\"li\").find(\"a\").attrs) # aタグの属性を取得 (属性は辞書型で返ってくる)-> hrefが取得できる 複数だったら全部取得できる\n",
    "print(post.find(\"li\").find(\"a\").attrs[\"href\"]) # aタグの属性を取得 (属性は辞書型で返ってくる)-> hrefが取得できる 複数だったら全部取得できる\n",
    "\n",
    "\n"
   ]
  },
  {
   "cell_type": "code",
   "execution_count": 61,
   "metadata": {},
   "outputs": [
    {
     "name": "stdout",
     "output_type": "stream",
     "text": [
      "https://pythoninsider.blogspot.com/2024/09/python-3130rc2-3126-31110-31015-3920.html\n"
     ]
    }
   ],
   "source": [
    "print(post.find(\"li\").find(\"a\").get(\"href\")) # URL取得 getメソッドでも取得できる(なかったらNoneが返ってくる)\n",
    "print(post.find(\"li\").find(\"a\").attrs[\"href\"]) # URL取得 attrsメソッドでも取得できる(なかったらエラーになる)"
   ]
  },
  {
   "cell_type": "code",
   "execution_count": 72,
   "metadata": {},
   "outputs": [
    {
     "name": "stdout",
     "output_type": "stream",
     "text": [
      "<h2 class=\"widget-title\"><span aria-hidden=\"true\" class=\"icon-news\"></span>Latest News</h2>\n",
      "<a class=\"\" href=\"/about/\" title=\"\">About</a>\n"
     ]
    },
    {
     "name": "stderr",
     "output_type": "stream",
     "text": [
      "/var/folders/0_/kg5380k16575_w090k0yt30r0000gn/T/ipykernel_6395/747606479.py:1: DeprecationWarning: The 'text' argument to find()-type methods is deprecated. Use 'string' instead.\n",
      "  print(post.find(text=\"Latest News\").parent) # Latest Newsの親要素を取得\n"
     ]
    }
   ],
   "source": [
    "print(post.find(text=\"Latest News\").parent) # Latest Newsの親要素を取得\n",
    "print(soup.find(href=\"/about/\"))"
   ]
  },
  {
   "cell_type": "code",
   "execution_count": 75,
   "metadata": {},
   "outputs": [
    {
     "name": "stdout",
     "output_type": "stream",
     "text": [
      "Welcome to Python.org\n",
      "Python\n",
      " The Python Network\n",
      "                \n",
      "Python Brochure\n",
      "Python Books\n",
      "Python Essays\n",
      "Python Conferences\n",
      "Python Logo\n",
      "Python Wiki\n",
      "Python News\n",
      "Python Events\n",
      "Python Events Archive\n",
      "# Python 3: Fibonacci series up to n\n",
      "The core of extensible programming is defining functions. Python allows mandatory and optional arguments, keyword arguments, and even arbitrary argument lists. \n",
      "More about defining functions in Python 3\n",
      "# Python 3: List comprehensions\n",
      "Lists (known as arrays in other languages) are one of the compound data types that Python understands. Lists can be indexed, sliced and manipulated with other built-in functions. \n",
      "More about lists in Python 3\n",
      "# Python 3: Simple arithmetic\n",
      "Calculations are simple with Python, and expression syntax is straightforward: the operators \n",
      "More about simple math functions in Python 3\n",
      "Python knows the usual control flow statements that other languages speak — \n",
      "More control flow tools in Python 3\n",
      "\n",
      ">>> print(\"Hello, I'm Python!\")\n",
      "\n",
      "Hello, I'm Python!\n",
      "What is your name?\n",
      "Python\n",
      "Hi, Python.\n",
      "Experienced programmers in any other language can pick up Python very quickly, and beginners find the clean syntax and indentation structure easy to learn. \n",
      " with our Python 3 overview.\n",
      "Python is a programming language that lets you work quickly \n",
      "Whether you're new to programming or an experienced developer, it's easy to learn and use Python.\n",
      "Python source code and installers are available for download for all versions!\n",
      "Python 3.12.6\n",
      "Documentation for Python's standard library, along with tutorials and guides, are available online.\n",
      "Looking for work or have a Python related position that you're trying to hire for? Our \n",
      "Python 3.13.0RC2, 3.12.6, 3.11.10, 3.10.15, 3.9.20, and 3.8.20 are now available!\n",
      "Python Developers Survey 2023 Results\n",
      "Announcing Python Software Foundation Fellow Members for Q1 2024! 🎉\n",
      "PythonCamp Rügen 2024\n",
      "Since its founding in 2007, Lincoln Loop has been building sites for their clients with Python and Django. They credit Python's philosophy of practicality and explicitness, along with the rich ecosystem of open-source libraries available on PyPI, as keys to their success. Additionally, the inclusivity, openness, and strong culture of collaboration in the Python community have enabled the agency to find and hire great people who are lifelong learners.\n",
      "Lincoln Loop: Building a sustainable business inspired by Python’s ethos\n",
      "Use Python for…\n",
      "wxPython\n",
      "IPython\n",
      "Python Enhancement Proposals\n",
      ": The future of Python\n",
      "Python Software Foundation\n",
      "The mission of the Python Software Foundation is to promote, protect, and advance the Python programming language, and to support and facilitate the growth of a diverse and international community of Python programmers. \n",
      "Python Brochure\n",
      "Python Books\n",
      "Python Essays\n",
      "Python Conferences\n",
      "Python Logo\n",
      "Python Wiki\n",
      "Python News\n",
      "Python Events\n",
      "Python Events Archive\n",
      "Python Software Foundation\n"
     ]
    },
    {
     "name": "stderr",
     "output_type": "stream",
     "text": [
      "/var/folders/0_/kg5380k16575_w090k0yt30r0000gn/T/ipykernel_6395/1220022879.py:3: DeprecationWarning: The 'text' argument to find()-type methods is deprecated. Use 'string' instead.\n",
      "  for text in soup.find_all(text=re.compile(\"Python\")):\n"
     ]
    }
   ],
   "source": [
    "# print(soup.find_all(text=re.compile(\"Python\"))) # Pythonという文字列が含まれている要素を取得\n",
    "\n",
    "for text in soup.find_all(text=re.compile(\"Python\")):\n",
    "    print(text) # pythonという文字列が含まれている要素を取得\n"
   ]
  },
  {
   "cell_type": "code",
   "execution_count": 80,
   "metadata": {},
   "outputs": [
    {
     "name": "stdout",
     "output_type": "stream",
     "text": [
      "<title>Welcome to Python.org</title>\n",
      "<a class=\"current_item selectedcurrent_branch selected\" href=\"/\" title=\"The Python Programming Language\">Python</a>\n",
      "<a aria-hidden=\"true\" class=\"jump-link\" href=\"#top\" id=\"python-network\">\n",
      "<span aria-hidden=\"true\" class=\"icon-arrow-up\"><span>▲</span></span> The Python Network\n",
      "                </a>\n",
      "<a href=\"http://brochure.getpython.info/\" title=\"\">Python Brochure</a>\n",
      "<a href=\"https://wiki.python.org/moin/PythonBooks\" title=\"\">Python Books</a>\n",
      "<a href=\"/doc/essays/\" title=\"\">Python Essays</a>\n",
      "<a href=\"/community/workshops/\" title=\"\">Python Conferences</a>\n",
      "<a href=\"/community/logos/\" title=\"\">Python Logo</a>\n",
      "<a href=\"https://wiki.python.org/moin/\" title=\"\">Python Wiki</a>\n",
      "<a href=\"/blogs/\" title=\"Python Insider Blog Posts\">Python News</a>\n",
      "<a href=\"/events/python-events/\" title=\"\">Python Events</a>\n",
      "<a href=\"/events/python-events/past/\" title=\"\">Python Events Archive</a>\n",
      "<span class=\"comment\"># Python 3: Fibonacci series up to n</span>\n",
      "<p>The core of extensible programming is defining functions. Python allows mandatory and optional arguments, keyword arguments, and even arbitrary argument lists. <a href=\"//docs.python.org/3/tutorial/controlflow.html#defining-functions\">More about defining functions in Python 3</a></p>\n",
      "<a href=\"//docs.python.org/3/tutorial/controlflow.html#defining-functions\">More about defining functions in Python 3</a>\n",
      "<span class=\"comment\"># Python 3: List comprehensions</span>\n",
      "<p>Lists (known as arrays in other languages) are one of the compound data types that Python understands. Lists can be indexed, sliced and manipulated with other built-in functions. <a href=\"//docs.python.org/3/tutorial/introduction.html#lists\">More about lists in Python 3</a></p>\n",
      "<a href=\"//docs.python.org/3/tutorial/introduction.html#lists\">More about lists in Python 3</a>\n",
      "<span class=\"comment\"># Python 3: Simple arithmetic</span>\n",
      "<p>Calculations are simple with Python, and expression syntax is straightforward: the operators <code>+</code>, <code>-</code>, <code>*</code> and <code>/</code> work as expected; parentheses <code>()</code> can be used for grouping. <a href=\"http://docs.python.org/3/tutorial/introduction.html#using-python-as-a-calculator\">More about simple math functions in Python 3</a>.</p>\n",
      "<a href=\"http://docs.python.org/3/tutorial/introduction.html#using-python-as-a-calculator\">More about simple math functions in Python 3</a>\n",
      "<p>Python knows the usual control flow statements that other languages speak — <code>if</code>, <code>for</code>, <code>while</code> and <code>range</code> — with some of its own twists, of course. <a href=\"//docs.python.org/3/tutorial/controlflow.html\">More control flow tools in Python 3</a></p>\n",
      "<a href=\"//docs.python.org/3/tutorial/controlflow.html\">More control flow tools in Python 3</a>\n",
      "<code><span class=\"comment\"># Simple output (with Unicode)</span>\n",
      "&gt;&gt;&gt; print(\"Hello, I'm Python!\")\n",
      "<span class=\"output\">Hello, I'm Python!</span>\n",
      "<span class=\"comment\"># Input, assignment</span>\n",
      "&gt;&gt;&gt; name = input('What is your name?\\n')\n",
      "<span class=\"output\">What is your name?\n",
      "Python</span>\n",
      "&gt;&gt;&gt; print(f'Hi, {name}.')\n",
      "<span class=\"output\">Hi, Python.</span></code>\n",
      "<span class=\"output\">Hello, I'm Python!</span>\n",
      "<span class=\"output\">What is your name?\n",
      "Python</span>\n",
      "<span class=\"output\">Hi, Python.</span>\n",
      "<p>Experienced programmers in any other language can pick up Python very quickly, and beginners find the clean syntax and indentation structure easy to learn. <a href=\"//docs.python.org/3/tutorial/\">Whet your appetite</a> with our Python 3 overview.</p>\n",
      "<p>Experienced programmers in any other language can pick up Python very quickly, and beginners find the clean syntax and indentation structure easy to learn. <a href=\"//docs.python.org/3/tutorial/\">Whet your appetite</a> with our Python 3 overview.</p>\n",
      "<p>Python is a programming language that lets you work quickly <span class=\"breaker\"></span>and integrate systems more effectively. <a class=\"readmore\" href=\"/doc/\">Learn More</a></p>\n",
      "<p>Whether you're new to programming or an experienced developer, it's easy to learn and use Python.</p>\n",
      "<p>Python source code and installers are available for download for all versions!</p>\n",
      "<a href=\"/downloads/release/python-3126/\">Python 3.12.6</a>\n",
      "<p>Documentation for Python's standard library, along with tutorials and guides, are available online.</p>\n",
      "<p>Looking for work or have a Python related position that you're trying to hire for? Our <strong>relaunched community-run job board</strong> is the place to go.</p>\n",
      "<a href=\"https://pythoninsider.blogspot.com/2024/09/python-3130rc2-3126-31110-31015-3920.html\">Python 3.13.0RC2, 3.12.6, 3.11.10, 3.10.15, 3.9.20, and 3.8.20 are now available!</a>\n",
      "<a href=\"https://pyfound.blogspot.com/2024/08/python-developers-survey-2023-results.html\">Python Developers Survey 2023 Results</a>\n",
      "<a href=\"https://pyfound.blogspot.com/2024/08/announcing-python-software-foundation.html\">Announcing Python Software Foundation Fellow Members for Q1 2024! 🎉</a>\n",
      "<a href=\"/events/python-user-group/1766/\">PythonCamp Rügen 2024</a>\n",
      "<a href=\"/success-stories/lincoln-loop-building-a-sustainable-business-inspired-by-pythons-ethos/\">Since its founding in 2007, Lincoln Loop has been building sites for their clients with Python and Django. They credit Python's philosophy of practicality and explicitness, along with the rich ecosystem of open-source libraries available on PyPI, as keys to their success. Additionally, the inclusivity, openness, and strong culture of collaboration in the Python community have enabled the agency to find and hire great people who are lifelong learners.</a>\n",
      "<a href=\"/success-stories/lincoln-loop-building-a-sustainable-business-inspired-by-pythons-ethos/\">Lincoln Loop: Building a sustainable business inspired by Python’s ethos</a>\n",
      "<h2 class=\"widget-title\"><span aria-hidden=\"true\" class=\"icon-python\"></span>Use Python for…</h2>\n",
      "<a class=\"tag\" href=\"http://www.wxpython.org/\">wxPython</a>\n",
      "<a class=\"tag\" href=\"http://ipython.org\">IPython</a>\n",
      "<a href=\"/dev/peps/\">Python Enhancement Proposals<span class=\"say-no-more\"> (PEPs)</span></a>\n",
      "<h2 class=\"widget-title\">\n",
      "<span class=\"prompt\">&gt;&gt;&gt;</span> <a href=\"/dev/peps/\">Python Enhancement Proposals<span class=\"say-no-more\"> (PEPs)</span></a>: The future of Python<span class=\"say-no-more\"> is discussed here.</span>\n",
      "<a aria-hidden=\"true\" class=\"rss-link\" href=\"/dev/peps/peps.rss\"><span class=\"icon-feed\"></span> RSS</a>\n",
      "</h2>\n",
      "<a href=\"/psf/\">Python Software Foundation</a>\n",
      "<p>The mission of the Python Software Foundation is to promote, protect, and advance the Python programming language, and to support and facilitate the growth of a diverse and international community of Python programmers. <a class=\"readmore\" href=\"/psf/\">Learn more</a> </p>\n",
      "<a href=\"http://brochure.getpython.info/\" title=\"\">Python Brochure</a>\n",
      "<a href=\"https://wiki.python.org/moin/PythonBooks\" title=\"\">Python Books</a>\n",
      "<a href=\"/doc/essays/\" title=\"\">Python Essays</a>\n",
      "<a href=\"/community/workshops/\" title=\"\">Python Conferences</a>\n",
      "<a href=\"/community/logos/\" title=\"\">Python Logo</a>\n",
      "<a href=\"https://wiki.python.org/moin/\" title=\"\">Python Wiki</a>\n",
      "<a href=\"/blogs/\" title=\"Python Insider Blog Posts\">Python News</a>\n",
      "<a href=\"/events/python-events/\" title=\"\">Python Events</a>\n",
      "<a href=\"/events/python-events/past/\" title=\"\">Python Events Archive</a>\n",
      "<a href=\"/psf-landing/\">Python Software Foundation</a>\n",
      "None\n",
      "None\n",
      "None\n",
      "None\n",
      "None\n",
      "None\n",
      "None\n",
      "None\n",
      "None\n",
      "None\n",
      "None\n",
      "None\n",
      "None\n",
      "None\n",
      "None\n",
      "None\n",
      "None\n",
      "None\n",
      "None\n",
      "None\n",
      "None\n",
      "None\n",
      "None\n",
      "None\n",
      "None\n",
      "None\n",
      "None\n",
      "None\n",
      "None\n",
      "None\n",
      "None\n",
      "None\n",
      "None\n",
      "None\n"
     ]
    },
    {
     "name": "stderr",
     "output_type": "stream",
     "text": [
      "/var/folders/0_/kg5380k16575_w090k0yt30r0000gn/T/ipykernel_6395/2229577625.py:1: DeprecationWarning: The 'text' argument to find()-type methods is deprecated. Use 'string' instead.\n",
      "  for text in soup.find_all(text=re.compile(\"Python\")):\n",
      "/var/folders/0_/kg5380k16575_w090k0yt30r0000gn/T/ipykernel_6395/2229577625.py:4: DeprecationWarning: The 'text' argument to find()-type methods is deprecated. Use 'string' instead.\n",
      "  for text in soup.find_all(\"a\", text=re.compile(\"Python\")):\n"
     ]
    }
   ],
   "source": [
    "for text in soup.find_all(text=re.compile(\"Python\")):\n",
    "    print(text.parent) # どんなHTML要素に含まれているかを取得\n",
    "\n",
    "for text in soup.find_all(\"a\", text=re.compile(\"Python\")):\n",
    "    print(text) # どんなHTML要素に含まれているかを取得"
   ]
  },
  {
   "cell_type": "code",
   "execution_count": 81,
   "metadata": {},
   "outputs": [
    {
     "name": "stdout",
     "output_type": "stream",
     "text": [
      "<a class=\"current_item selectedcurrent_branch selected\" href=\"/\" title=\"The Python Programming Language\">Python</a>\n",
      "<a href=\"http://brochure.getpython.info/\" title=\"\">Python Brochure</a>\n",
      "<a href=\"https://wiki.python.org/moin/PythonBooks\" title=\"\">Python Books</a>\n",
      "<a href=\"/doc/essays/\" title=\"\">Python Essays</a>\n",
      "<a href=\"/community/workshops/\" title=\"\">Python Conferences</a>\n",
      "<a href=\"/community/logos/\" title=\"\">Python Logo</a>\n",
      "<a href=\"https://wiki.python.org/moin/\" title=\"\">Python Wiki</a>\n",
      "<a href=\"/blogs/\" title=\"Python Insider Blog Posts\">Python News</a>\n",
      "<a href=\"/events/python-events/\" title=\"\">Python Events</a>\n",
      "<a href=\"/events/python-events/past/\" title=\"\">Python Events Archive</a>\n",
      "<a href=\"//docs.python.org/3/tutorial/controlflow.html#defining-functions\">More about defining functions in Python 3</a>\n",
      "<a href=\"//docs.python.org/3/tutorial/introduction.html#lists\">More about lists in Python 3</a>\n",
      "<a href=\"http://docs.python.org/3/tutorial/introduction.html#using-python-as-a-calculator\">More about simple math functions in Python 3</a>\n",
      "<a href=\"//docs.python.org/3/tutorial/controlflow.html\">More control flow tools in Python 3</a>\n",
      "<a href=\"/downloads/release/python-3126/\">Python 3.12.6</a>\n",
      "<a href=\"https://pythoninsider.blogspot.com/2024/09/python-3130rc2-3126-31110-31015-3920.html\">Python 3.13.0RC2, 3.12.6, 3.11.10, 3.10.15, 3.9.20, and 3.8.20 are now available!</a>\n",
      "<a href=\"https://pyfound.blogspot.com/2024/08/python-developers-survey-2023-results.html\">Python Developers Survey 2023 Results</a>\n",
      "<a href=\"https://pyfound.blogspot.com/2024/08/announcing-python-software-foundation.html\">Announcing Python Software Foundation Fellow Members for Q1 2024! 🎉</a>\n",
      "<a href=\"/events/python-user-group/1766/\">PythonCamp Rügen 2024</a>\n",
      "<a href=\"/success-stories/lincoln-loop-building-a-sustainable-business-inspired-by-pythons-ethos/\">Since its founding in 2007, Lincoln Loop has been building sites for their clients with Python and Django. They credit Python's philosophy of practicality and explicitness, along with the rich ecosystem of open-source libraries available on PyPI, as keys to their success. Additionally, the inclusivity, openness, and strong culture of collaboration in the Python community have enabled the agency to find and hire great people who are lifelong learners.</a>\n",
      "<a href=\"/success-stories/lincoln-loop-building-a-sustainable-business-inspired-by-pythons-ethos/\">Lincoln Loop: Building a sustainable business inspired by Python’s ethos</a>\n",
      "<a class=\"tag\" href=\"http://www.wxpython.org/\">wxPython</a>\n",
      "<a class=\"tag\" href=\"http://ipython.org\">IPython</a>\n",
      "<a href=\"/psf/\">Python Software Foundation</a>\n",
      "<a href=\"http://brochure.getpython.info/\" title=\"\">Python Brochure</a>\n",
      "<a href=\"https://wiki.python.org/moin/PythonBooks\" title=\"\">Python Books</a>\n",
      "<a href=\"/doc/essays/\" title=\"\">Python Essays</a>\n",
      "<a href=\"/community/workshops/\" title=\"\">Python Conferences</a>\n",
      "<a href=\"/community/logos/\" title=\"\">Python Logo</a>\n",
      "<a href=\"https://wiki.python.org/moin/\" title=\"\">Python Wiki</a>\n",
      "<a href=\"/blogs/\" title=\"Python Insider Blog Posts\">Python News</a>\n",
      "<a href=\"/events/python-events/\" title=\"\">Python Events</a>\n",
      "<a href=\"/events/python-events/past/\" title=\"\">Python Events Archive</a>\n",
      "<a href=\"/psf-landing/\">Python Software Foundation</a>\n"
     ]
    },
    {
     "name": "stderr",
     "output_type": "stream",
     "text": [
      "/var/folders/0_/kg5380k16575_w090k0yt30r0000gn/T/ipykernel_6395/1625301291.py:1: DeprecationWarning: The 'text' argument to find()-type methods is deprecated. Use 'string' instead.\n",
      "  for text in soup.find_all(\"a\", text=re.compile(\"Python\")):\n"
     ]
    }
   ],
   "source": [
    "for text in soup.find_all(\"a\", text=re.compile(\"Python\")):\n",
    "    print(text) # Pythonでいう文字列が書いているaタグを指定できる"
   ]
  },
  {
   "cell_type": "code",
   "execution_count": 82,
   "metadata": {},
   "outputs": [
    {
     "name": "stdout",
     "output_type": "stream",
     "text": [
      "<a href=\"https://docs.python.org\" title=\"Python Documentation\">Docs</a>\n",
      "<a href=\"https://docs.python.org/3/license.html\" title=\"\">License</a>\n",
      "<a href=\"https://docs.python.org/faq/\" title=\"\">FAQ</a>\n",
      "<a href=\"//docs.python.org/3/tutorial/controlflow.html#defining-functions\">More about defining functions in Python 3</a>\n",
      "<a href=\"//docs.python.org/3/tutorial/introduction.html#lists\">More about lists in Python 3</a>\n",
      "<a href=\"http://docs.python.org/3/tutorial/introduction.html#using-python-as-a-calculator\">More about simple math functions in Python 3</a>\n",
      "<a href=\"//docs.python.org/3/tutorial/controlflow.html\">More control flow tools in Python 3</a>\n",
      "<a href=\"//docs.python.org/3/tutorial/\">Whet your appetite</a>\n",
      "<a href=\"https://docs.python.org\">docs.python.org</a>\n",
      "<a href=\"https://docs.python.org/3/license.html\" title=\"\">License</a>\n",
      "<a href=\"https://docs.python.org/faq/\" title=\"\">FAQ</a>\n"
     ]
    }
   ],
   "source": [
    "for text in soup.find_all(\"a\", href=re.compile(\"docs.python.org\")): # docs.python.orgが含まれているURLを持つaタグを取得\n",
    "    print(text) # Pythonでいう文字列が書いているaタグを指定できる"
   ]
  },
  {
   "cell_type": "code",
   "execution_count": null,
   "metadata": {},
   "outputs": [],
   "source": []
  }
 ],
 "metadata": {
  "kernelspec": {
   "display_name": "scraping-env",
   "language": "python",
   "name": "python3"
  },
  "language_info": {
   "codemirror_mode": {
    "name": "ipython",
    "version": 3
   },
   "file_extension": ".py",
   "mimetype": "text/x-python",
   "name": "python",
   "nbconvert_exporter": "python",
   "pygments_lexer": "ipython3",
   "version": "3.9.6"
  }
 },
 "nbformat": 4,
 "nbformat_minor": 2
}
