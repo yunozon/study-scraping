{
 "cells": [
  {
   "cell_type": "markdown",
   "metadata": {},
   "source": [
    "# ライブラリ"
   ]
  },
  {
   "cell_type": "code",
   "execution_count": 2,
   "metadata": {},
   "outputs": [],
   "source": [
    "from bs4 import BeautifulSoup\n",
    "import requests\n",
    "import re\n",
    "import pandas as pd"
   ]
  },
  {
   "cell_type": "code",
   "execution_count": 7,
   "metadata": {},
   "outputs": [],
   "source": [
    "html = \"\"\"\n",
    "<!DOCTYPE html>\n",
    "<html lang=\"ja\">\n",
    "<head>\n",
    "    <meta charset=\"UTF-8\">\n",
    "    <meta name=\"viewport\" content=\"width=device-width, initial-scale=1.0\">\n",
    "    <title>Document</title>\n",
    "</head>\n",
    "<body>\n",
    "    <h1>タイトル</h1>\n",
    "    <h2>演習内容</h2>\n",
    "    <ol id=\"step1\" class=\"study-list\">\n",
    "        <li>Python基礎</li>\n",
    "        <li>HTML基礎</li>\n",
    "    </ol>\n",
    "\n",
    "    <ol id=\"step2\" class=\"study-list\">\n",
    "        <li>Python応用</li>\n",
    "        <li>HTML応用</li>\n",
    "    </ol>\n",
    "</body>\n",
    "</html>\n",
    "\"\"\""
   ]
  },
  {
   "cell_type": "code",
   "execution_count": 8,
   "metadata": {},
   "outputs": [
    {
     "name": "stdout",
     "output_type": "stream",
     "text": [
      "演習内容\n",
      "演習内容\n"
     ]
    }
   ],
   "source": [
    "soup = BeautifulSoup(html, \"lxml\")\n",
    "print(soup.find(\"h2\").text)\n",
    "print(soup.select_one(\"h2\").text) # CSSセレクタで取得(基本的)"
   ]
  },
  {
   "cell_type": "code",
   "execution_count": 15,
   "metadata": {},
   "outputs": [
    {
     "name": "stdout",
     "output_type": "stream",
     "text": [
      "\n",
      "Python基礎\n",
      "HTML基礎\n",
      "\n",
      "\n",
      "Python基礎\n",
      "HTML基礎\n",
      "\n"
     ]
    }
   ],
   "source": [
    "soup = BeautifulSoup(html, \"lxml\")\n",
    "print(soup.find(class_=\"study-list\").text)\n",
    "print(soup.select_one(\".study-list\").text) # CSSセレクタで取得(基本的)"
   ]
  },
  {
   "cell_type": "code",
   "execution_count": 18,
   "metadata": {},
   "outputs": [
    {
     "name": "stdout",
     "output_type": "stream",
     "text": [
      "[<ol class=\"study-list\" id=\"step1\">\n",
      "<li>Python基礎</li>\n",
      "<li>HTML基礎</li>\n",
      "</ol>, <ol class=\"study-list\" id=\"step2\">\n",
      "<li>Python応用</li>\n",
      "<li>HTML応用</li>\n",
      "</ol>]\n",
      "[<ol class=\"study-list\" id=\"step1\">\n",
      "<li>Python基礎</li>\n",
      "<li>HTML基礎</li>\n",
      "</ol>, <ol class=\"study-list\" id=\"step2\">\n",
      "<li>Python応用</li>\n",
      "<li>HTML応用</li>\n",
      "</ol>]\n"
     ]
    }
   ],
   "source": [
    "soup = BeautifulSoup(html, \"lxml\")\n",
    "print(soup.find_all(class_=\"study-list\")) # find_all()で取得\n",
    "print(soup.select(\".study-list\")) # CSSセレクタで取得(基本的)"
   ]
  },
  {
   "cell_type": "code",
   "execution_count": null,
   "metadata": {},
   "outputs": [],
   "source": []
  }
 ],
 "metadata": {
  "kernelspec": {
   "display_name": "scraping-env",
   "language": "python",
   "name": "python3"
  },
  "language_info": {
   "codemirror_mode": {
    "name": "ipython",
    "version": 3
   },
   "file_extension": ".py",
   "mimetype": "text/x-python",
   "name": "python",
   "nbconvert_exporter": "python",
   "pygments_lexer": "ipython3",
   "version": "3.9.6"
  }
 },
 "nbformat": 4,
 "nbformat_minor": 2
}
